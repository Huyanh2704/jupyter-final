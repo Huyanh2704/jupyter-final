{
 "cells": [
  {
   "cell_type": "markdown",
   "id": "03c61809-d1f8-4480-9de7-3f37ee949443",
   "metadata": {},
   "source": [
    "# Data Science Tools and Ecosystem"
   ]
  },
  {
   "cell_type": "markdown",
   "id": "1b38a0b1-fc08-4af0-a2fe-f04ee8a03f26",
   "metadata": {},
   "source": [
    "In this notebook, Data Science Tools and Ecosystem are summarized."
   ]
  },
  {
   "cell_type": "markdown",
   "id": "a4f3687b-b080-493f-baf1-3a8d98e1651d",
   "metadata": {},
   "source": [
    "**Objectives:**\n",
    " - Web Scraping\n",
    " - Regression\n",
    " - Machine Learning"
   ]
  },
  {
   "cell_type": "markdown",
   "id": "6598f8f4-efe8-4074-a64e-15feea1c0965",
   "metadata": {},
   "source": [
    "Some of the popular languages that Data Scientists use are:\n",
    "1. Python\n",
    "2. R\n",
    "3. SQL"
   ]
  },
  {
   "cell_type": "markdown",
   "id": "1fe6f287-ea9f-4b2e-b712-891cd9443b59",
   "metadata": {},
   "source": [
    "Some of the commonly used libraries used by Data Scientists include:\n",
    "1. Numpy\n",
    "2. Pandas\n",
    "3. Matplotlib"
   ]
  },
  {
   "cell_type": "markdown",
   "id": "19fd83e2-5e8c-4fff-a6bc-fbf4a48fd006",
   "metadata": {},
   "source": [
    "| Data Science Tools |\n",
    "|:------------------:|\n",
    "|  Apache Spark      |\n",
    "|  TensorFlow        |  \n",
    "|  Apache Hadoop     |  "
   ]
  },
  {
   "cell_type": "markdown",
   "id": "ccb444b9-ec6b-4039-801f-5eb5ee7b7b4f",
   "metadata": {},
   "source": [
    "### Below are a few examples of evaluating arithmetic expressions in Python"
   ]
  },
  {
   "cell_type": "code",
   "execution_count": 2,
   "id": "da69f634-3627-4b83-b381-c123a5720854",
   "metadata": {
    "tags": []
   },
   "outputs": [
    {
     "data": {
      "text/plain": [
       "17"
      ]
     },
     "execution_count": 2,
     "metadata": {},
     "output_type": "execute_result"
    }
   ],
   "source": [
    "#This a simple arithmetic expression to mutiply then add integers\n",
    "(3*4)+5"
   ]
  },
  {
   "cell_type": "code",
   "execution_count": 1,
   "id": "138bc6b8-e027-4d9b-939f-0362d3c6b3e0",
   "metadata": {
    "tags": []
   },
   "outputs": [
    {
     "name": "stdout",
     "output_type": "stream",
     "text": [
      "3.3333333333333335\n"
     ]
    }
   ],
   "source": [
    "#This will convert 200 minutes to hours by diving by 60\n",
    "hour = 60\n",
    "minutes = 200\n",
    "result = minutes/hour\n",
    "print(result)"
   ]
  },
  {
   "cell_type": "markdown",
   "id": "b7659af6-5943-49df-af32-15a008bf14a9",
   "metadata": {},
   "source": [
    "## Author\n",
    "Nguyen Huy Anh"
   ]
  },
  {
   "cell_type": "code",
   "execution_count": null,
   "id": "cd82d24a-d7af-47ac-bb45-41655e5a9ba8",
   "metadata": {},
   "outputs": [],
   "source": []
  }
 ],
 "metadata": {
  "kernelspec": {
   "display_name": "Python",
   "language": "python",
   "name": "conda-env-python-py"
  },
  "language_info": {
   "codemirror_mode": {
    "name": "ipython",
    "version": 3
   },
   "file_extension": ".py",
   "mimetype": "text/x-python",
   "name": "python",
   "nbconvert_exporter": "python",
   "pygments_lexer": "ipython3",
   "version": "3.7.12"
  }
 },
 "nbformat": 4,
 "nbformat_minor": 5
}
